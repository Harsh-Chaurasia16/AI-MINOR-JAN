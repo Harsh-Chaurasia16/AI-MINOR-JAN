{
  "nbformat": 4,
  "nbformat_minor": 0,
  "metadata": {
    "colab": {
      "name": "AI-MINOR JAN.ipynb",
      "provenance": [],
      "collapsed_sections": [],
      "authorship_tag": "ABX9TyM1HDMscF5Es5DEbmHSvQmo",
      "include_colab_link": true
    },
    "kernelspec": {
      "name": "python3",
      "display_name": "Python 3"
    }
  },
  "cells": [
    {
      "cell_type": "markdown",
      "metadata": {
        "id": "view-in-github",
        "colab_type": "text"
      },
      "source": [
        "<a href=\"https://colab.research.google.com/github/Harsh-Chaurasia16/AI-MINOR-JAN/blob/main/AI_MINOR_JAN.ipynb\" target=\"_parent\"><img src=\"https://colab.research.google.com/assets/colab-badge.svg\" alt=\"Open In Colab\"/></a>"
      ]
    },
    {
      "cell_type": "code",
      "metadata": {
        "colab": {
          "base_uri": "https://localhost:8080/"
        },
        "id": "rDy6WcfLpUfl",
        "outputId": "c33e6661-8fe3-4938-dc13-71aa6d30a8be"
      },
      "source": [
        "# GAME OF ROCK - PAPER - SCISSOR\r\n",
        "\r\n",
        "from random import randint\r\n",
        "\r\n",
        "a = ['rock', 'paper', 'scissor']\r\n",
        "computer = a[randint(0,2)]\r\n",
        "\r\n",
        "# set player to false\r\n",
        "player = False\r\n",
        "\r\n",
        "while player == False:\r\n",
        "  #set player to true\r\n",
        "  player = input('YOUR MOVE ')\r\n",
        "  player = player.lower()\r\n",
        "\r\n",
        "  if player ==computer:\r\n",
        "    print('Tie!')\r\n",
        "  \r\n",
        "  elif player == 'rock':\r\n",
        "    if computer == 'paper':\r\n",
        "      print('You Lose!', computer, 'cover', player)\r\n",
        "    else:\r\n",
        "      print('You Win!', player, 'crushes', computer)\r\n",
        "  elif player == 'paper':\r\n",
        "    if computer == 'scissor':\r\n",
        "      print('You Lose!', computer, 'cuts', player)\r\n",
        "    else:\r\n",
        "      print('You Win!', player, 'covers', computer)\r\n",
        "  elif player == 'scissor':\r\n",
        "    if computer == 'rock':\r\n",
        "      print('You Lose!', computer, 'crushes', player)\r\n",
        "    else:\r\n",
        "      print('You Win!', player, 'cuts', computer)\r\n",
        "  else:\r\n",
        "    print('''THAT'S NOT A VALID MOVE , Please Check Spelling.''')\r\n",
        "\r\n",
        "player = False\r\n",
        "computer = a[randint(0,2)]"
      ],
      "execution_count": null,
      "outputs": [
        {
          "output_type": "stream",
          "text": [
            "YOUR MOVE scissor\n",
            "You Win scissor cuts paper\n"
          ],
          "name": "stdout"
        }
      ]
    }
  ]
}